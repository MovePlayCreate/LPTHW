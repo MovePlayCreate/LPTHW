{
 "cells": [
  {
   "cell_type": "code",
   "execution_count": 4,
   "id": "17066166-3e80-448c-a57c-b5f42bb22169",
   "metadata": {},
   "outputs": [],
   "source": [
    "fruit = [\n",
    "    {'kind': 'Apples',  'count': 12, 'rating': 'AAA'},\n",
    "    {'kind': 'Oranges', 'count': 1,  'rating': 'B'},\n",
    "    {'kind': 'Pears',   'count': 2,  'rating': 'A'},\n",
    "    {'kind': 'Grapes',  'count': 14, 'rating': 'UR'}\n",
    "];\n",
    "\n",
    "cars = [\n",
    "    {'type': 'Cadillac',  'color': 'Black',\n",
    "    'size':  'Big', 'miles' :34500},\n",
    "    {'type': 'Corvette',  'color': 'Red',\n",
    "     'size': 'Little', 'miles': 1000000},\n",
    "    {'type': 'Ford', 'color': 'Blue', \n",
    "     'size': 'Medium', 'miles': 1234},\n",
    "    {'type': 'BMW', 'color': 'White',\n",
    "     'size': 'Baby', 'miles': 7890}\n",
    "];\n",
    "\n",
    "languages = [\n",
    "    {'name': 'Python', 'speed': 'Slow',\n",
    "     'opinion': ['Terrible', 'Mush']},\n",
    "    {'name': 'JavaScript', 'speed': 'Moderate',\n",
    "     'opinion': ['Alright', 'Bizarre']},\n",
    "    {'name': 'Perl6', 'speed': 'Moderate',\n",
    "     'opinion': ['Fun', 'Weird']},\n",
    "    {'name': 'C', 'speed': 'Fast',\n",
    "     'opinion': ['Annoying', 'Dangerous']},\n",
    "    {'name': 'Forth', 'speed': 'Fast',\n",
    "     'opinion': ['Fun', 'Difficult']},\n",
    "]; "
   ]
  },
  {
   "cell_type": "code",
   "execution_count": 39,
   "id": "e8ce5c35-1461-43f4-8c1f-61353e02d36d",
   "metadata": {},
   "outputs": [
    {
     "data": {
      "text/plain": [
       "'Fast'"
      ]
     },
     "execution_count": 39,
     "metadata": {},
     "output_type": "execute_result"
    }
   ],
   "source": [
    "# cars[1]['size']\n",
    "# cars[1]['color']\n",
    "# cars[1]['type']\n",
    "# cars[3]['size']\n",
    "# fruit[3]['rating']\n",
    "# languages[0]['opinion'][1]\n",
    "# fruit[2]['count']\n",
    "# languages[4]['speed']\n",
    "# lyrics to \"Little Red Corvette\" by Prince "
   ]
  },
  {
   "cell_type": "code",
   "execution_count": null,
   "id": "41b3109e-667b-47f6-b010-1d5f859c7df0",
   "metadata": {},
   "outputs": [],
   "source": []
  }
 ],
 "metadata": {
  "kernelspec": {
   "display_name": "Python [conda env:base] *",
   "language": "python",
   "name": "conda-base-py"
  },
  "language_info": {
   "codemirror_mode": {
    "name": "ipython",
    "version": 3
   },
   "file_extension": ".py",
   "mimetype": "text/x-python",
   "name": "python",
   "nbconvert_exporter": "python",
   "pygments_lexer": "ipython3",
   "version": "3.13.5"
  }
 },
 "nbformat": 4,
 "nbformat_minor": 5
}
