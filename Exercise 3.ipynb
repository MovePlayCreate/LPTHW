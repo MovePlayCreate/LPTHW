{
 "cells": [
  {
   "cell_type": "code",
   "execution_count": 5,
   "id": "49212ccb-15ef-4a3a-8bdd-b94a6766668e",
   "metadata": {},
   "outputs": [
    {
     "name": "stdout",
     "output_type": "stream",
     "text": [
      "I will now count my chickens:\n",
      "Hens 30.0\n",
      "Roosters 97.0\n",
      "Now I will count the eggs:\n",
      "6.75\n",
      "Is it true that 3 + 2 < 5 - 7?\n",
      "False\n",
      "What is 3 + 2? 5.0\n",
      "What is 5 - 7? -2.0\n",
      "Oh, that's why it's False.\n",
      "How about some more.\n",
      "Is it greater? True\n",
      "Is it greater or equal? True\n",
      "Is it less or equal? False\n"
     ]
    }
   ],
   "source": [
    "# this will print I will now count my chickens\n",
    "print(\"I will now count my chickens:\")\n",
    "\n",
    "#This is math for how many hens, which will turn out to be 30 in float form because of the division\n",
    "print(\"Hens\", 25 + 30 / 6)\n",
    "\n",
    "#This will print how many roosters, through a display of math that will read 97 in float form. \n",
    "print(\"Roosters\", float(100 - 25 * 3 % 4))\n",
    "\n",
    "#this will print 'now I will count the eggs'\n",
    "print(\"Now I will count the eggs:\")\n",
    "\n",
    "#mathematical expression calculated PEMDAS through python equaling 6 3/4. \n",
    "#Doesn't have to be programmed as a float because it has division\n",
    "print(3 + 2 + 1 - 5 + 4 % 2 - 1 / 4 + 6)\n",
    "\n",
    "#printing a string with a math expression in it, will display the math without calculating it. \n",
    "print(\"Is it true that 3 + 2 < 5 - 7?\")\n",
    "\n",
    "#this will print as a boolean that will return False as the expression is False\n",
    "print(3 + 2 < 5 - 7)\n",
    "\n",
    "#will print the math expression and the answer\n",
    "print(\"What is 3 + 2?\", float(3 + 2))\n",
    "print(\"What is 5 - 7?\", float(5 - 7))\n",
    "\n",
    "#commenting why the boolean returned False, because it was\n",
    "print(\"Oh, that's why it's False.\")\n",
    "#printing to the console\n",
    "print(\"How about some more.\")\n",
    "\n",
    "#Boolean expressions that will return True, True, False respectively\n",
    "print(\"Is it greater?\", 5 > -2)\n",
    "print(\"Is it greater or equal?\", 5 >= -2)\n",
    "print(\"Is it less or equal?\", 5 <= -2)"
   ]
  },
  {
   "cell_type": "code",
   "execution_count": null,
   "id": "2bfe0653-1cd4-4b5e-8d05-abafa5ec2fd9",
   "metadata": {},
   "outputs": [],
   "source": []
  }
 ],
 "metadata": {
  "kernelspec": {
   "display_name": "Python 3 (ipykernel)",
   "language": "python",
   "name": "python3"
  },
  "language_info": {
   "codemirror_mode": {
    "name": "ipython",
    "version": 3
   },
   "file_extension": ".py",
   "mimetype": "text/x-python",
   "name": "python",
   "nbconvert_exporter": "python",
   "pygments_lexer": "ipython3",
   "version": "3.13.5"
  }
 },
 "nbformat": 4,
 "nbformat_minor": 5
}
