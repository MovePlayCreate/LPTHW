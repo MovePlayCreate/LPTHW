{
 "cells": [
  {
   "cell_type": "code",
   "execution_count": 9,
   "id": "e118b34f-f813-423d-899a-e64ead49b7ba",
   "metadata": {},
   "outputs": [
    {
     "name": "stdout",
     "output_type": "stream",
     "text": [
      "There are 10 types of people.\n",
      "Those who know binary and those who don't.\n",
      "I said: There are 10 types of people.\n",
      "I also said: 'Those who know binary and those who don't.'\n",
      "Isn't that joke so funny?! False\n",
      "This is the left side of...a string with a right side.\n"
     ]
    }
   ],
   "source": [
    "#assigns an integer 10 to the variable types_of_people\n",
    "types_of_people = 10\n",
    "#sets a formatted string (f-string) to the value of x with the variable types of people going inside the string\n",
    "x = f\"There are {types_of_people} types of people.\"\n",
    "\n",
    "#next to lines are setting strings equal to a variable of the same name except the conjunction\n",
    "binary = \"binary\"\n",
    "do_not = \"don't\"\n",
    "#another f-string with two varialbes embedded within, both are strings\n",
    "y = f\"Those who know {binary} and those who {do_not}.\"\n",
    "\n",
    "#next two lines will print the f-string lines that were created\n",
    "print(x)\n",
    "print(y)\n",
    "\n",
    "#these lines will embed an f-string within an f-string like f-string inception as a print statement\n",
    "print(f\"I said: {x}\")\n",
    "print(f\"I also said: '{y}'\")\n",
    "\n",
    "#defines the boolean False to hilarious variable\n",
    "hilarious = False\n",
    "#assigns a string with empty brackets at the end of it to the variable joke_evaluation, which is about to be used\n",
    "joke_evaluation = \"Isn't that joke so funny?! {}\"\n",
    "\n",
    "#prints the joke_evlauation string and passes the value of hilarious in for the formatting of the empty brackets, which is False\n",
    "print(joke_evaluation.format(hilarious))\n",
    "\n",
    "#this will become two cancatonated strings when printed with a plus sign it joines the strings together\n",
    "w = \"This is the left side of...\"\n",
    "e = \"a string with a right side.\"\n",
    "print(w + e)"
   ]
  },
  {
   "cell_type": "code",
   "execution_count": null,
   "id": "ad874585-35af-4d4a-9968-0a7597115bb9",
   "metadata": {},
   "outputs": [],
   "source": []
  },
  {
   "cell_type": "code",
   "execution_count": null,
   "id": "35843952-d85e-4d67-af39-0d670b74ff24",
   "metadata": {},
   "outputs": [],
   "source": []
  }
 ],
 "metadata": {
  "kernelspec": {
   "display_name": "Python 3 (ipykernel)",
   "language": "python",
   "name": "python3"
  },
  "language_info": {
   "codemirror_mode": {
    "name": "ipython",
    "version": 3
   },
   "file_extension": ".py",
   "mimetype": "text/x-python",
   "name": "python",
   "nbconvert_exporter": "python",
   "pygments_lexer": "ipython3",
   "version": "3.13.5"
  }
 },
 "nbformat": 4,
 "nbformat_minor": 5
}
