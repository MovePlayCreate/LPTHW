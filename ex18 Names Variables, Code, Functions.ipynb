{
 "cells": [
  {
   "cell_type": "code",
   "execution_count": 5,
   "id": "abf868fa-c515-4a1d-ac2d-224167b34a6d",
   "metadata": {},
   "outputs": [
    {
     "name": "stdout",
     "output_type": "stream",
     "text": [
      "I did something!\n",
      "A IS hello B IS 1\n"
     ]
    },
    {
     "data": {
      "text/plain": [
       "True"
      ]
     },
     "execution_count": 5,
     "metadata": {},
     "output_type": "execute_result"
    }
   ],
   "source": [
    "def do_nothing():\n",
    "    pass\n",
    "\n",
    "def do_something():\n",
    "    print(\"I did something!\")\n",
    "\n",
    "# now we can call it by its name\n",
    "do_something()\n",
    "\n",
    "def do_more_things(a, b):\n",
    "    print(\"A IS\", a, \"B IS\", b)\n",
    "\n",
    "do_more_things(\"hello\", 1)\n",
    "\n",
    "def is_prime(num):\n",
    "    check_until = int(num ** .5)\n",
    "    for i in range(3, check_until, 2):\n",
    "        if num < 2:\n",
    "            return False\n",
    "        if num == 2:\n",
    "            return True\n",
    "        elif num % 2 == 0:\n",
    "            return False\n",
    "        elif num % i == 0:\n",
    "            return False\n",
    "    return True\n",
    "\n",
    "is_prime(25)\n",
    "        \n",
    "    "
   ]
  },
  {
   "cell_type": "code",
   "execution_count": 6,
   "id": "6ab23b97-e417-4629-ae73-53ba1de15014",
   "metadata": {},
   "outputs": [
    {
     "name": "stdout",
     "output_type": "stream",
     "text": [
      "arg1: Zed, arg2: Shaw\n",
      "arg1: Zed, arg2: Shaw\n",
      "arg1: First!\n",
      "I got nothin'.\n"
     ]
    }
   ],
   "source": [
    "# this one is like your scripts with argv\n",
    "def print_two(*args):\n",
    "    arg1, arg2 = args\n",
    "    print(f\"arg1: {arg1}, arg2: {arg2}\")\n",
    "\n",
    "# ok, that *args is actually pointless, we can just do this\n",
    "def print_two_again(arg1, arg2):\n",
    "    print(f\"arg1: {arg1}, arg2: {arg2}\")\n",
    "\n",
    "# this just takes one argument\n",
    "def print_one(arg1):\n",
    "    print(f\"arg1: {arg1}\")\n",
    "\n",
    "# this one takes no arguments\n",
    "def print_none():\n",
    "    print(\"I got nothin'.\")\n",
    "\n",
    "print_two(\"Zed\", \"Shaw\")\n",
    "print_two_again(\"Zed\", \"Shaw\")\n",
    "print_one(\"First!\")\n",
    "print_none()\n"
   ]
  },
  {
   "cell_type": "code",
   "execution_count": null,
   "id": "715ac3a8-e924-4402-9bd8-556d939f44ed",
   "metadata": {},
   "outputs": [],
   "source": []
  }
 ],
 "metadata": {
  "kernelspec": {
   "display_name": "Python [conda env:base] *",
   "language": "python",
   "name": "conda-base-py"
  },
  "language_info": {
   "codemirror_mode": {
    "name": "ipython",
    "version": 3
   },
   "file_extension": ".py",
   "mimetype": "text/x-python",
   "name": "python",
   "nbconvert_exporter": "python",
   "pygments_lexer": "ipython3",
   "version": "3.13.5"
  }
 },
 "nbformat": 4,
 "nbformat_minor": 5
}
