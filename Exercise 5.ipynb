{
 "cells": [
  {
   "cell_type": "code",
   "execution_count": 7,
   "id": "591274bb-22eb-4485-b5ce-f74fb9700499",
   "metadata": {},
   "outputs": [
    {
     "name": "stdout",
     "output_type": "stream",
     "text": [
      "Let's talk about Zed A. Shaw.\n",
      "He's 74 inches tall.\n",
      "He's 180 pounds heavy.\n",
      "Actually that's not too heavy.\n",
      "He's got Blue eyes and Brown hair.\n",
      "His teeth are usually White depending on the coffee.\n",
      "If I add 35, 74, and 180 I get 289.\n",
      "I am 180 lbs., that means I am 81.65 kgs.\n",
      "I am 74 inches tall, that means I am 187.96 cm\n"
     ]
    }
   ],
   "source": [
    "name = 'Zed A. Shaw'\n",
    "age = 35 # not a lie\n",
    "height = 74 # inches\n",
    "weight = 180 # lbs\n",
    "eyes = 'Blue'\n",
    "teeth = 'White'\n",
    "hair = 'Brown'\n",
    "\n",
    "print(f\"Let's talk about {name}.\")\n",
    "print(f\"He's {height} inches tall.\")\n",
    "print(f\"He's {weight} pounds heavy.\")\n",
    "print(\"Actually that's not too heavy.\")\n",
    "print(f\"He's got {eyes} eyes and {hair} hair.\")\n",
    "print(f\"His teeth are usually {teeth} depending on the coffee.\")\n",
    "\n",
    "# this line is tricky; try to get it exactly right\n",
    "total = age + height + weight\n",
    "print(f\"If I add {age}, {height}, and {weight} I get {total}.\")\n",
    "\n",
    "def to_kilograms(lbs):\n",
    "    return lbs * .453592\n",
    "\n",
    "def to_centimeters(inches):\n",
    "    return inches * 2.54\n",
    "\n",
    "#working in functions perhaps a tad early, and, also rounding numbers to 2 decimal places using round(number, 2)\n",
    "print(f\"I am {weight} lbs., that means I am {round(to_kilograms(weight), 2)} kgs.\")\n",
    "print(f\"I am {height} inches tall, that means I am {to_centimeters(height)} cm\")\n",
    "    \n"
   ]
  },
  {
   "cell_type": "code",
   "execution_count": null,
   "id": "d1b38f87-57a3-46b5-ad51-63a62350c5e5",
   "metadata": {},
   "outputs": [],
   "source": []
  }
 ],
 "metadata": {
  "kernelspec": {
   "display_name": "Python 3 (ipykernel)",
   "language": "python",
   "name": "python3"
  },
  "language_info": {
   "codemirror_mode": {
    "name": "ipython",
    "version": 3
   },
   "file_extension": ".py",
   "mimetype": "text/x-python",
   "name": "python",
   "nbconvert_exporter": "python",
   "pygments_lexer": "ipython3",
   "version": "3.13.5"
  }
 },
 "nbformat": 4,
 "nbformat_minor": 5
}
