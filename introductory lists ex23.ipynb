{
 "cells": [
  {
   "cell_type": "code",
   "execution_count": 2,
   "id": "566f5186-fb24-4629-aa21-de4725adb917",
   "metadata": {},
   "outputs": [],
   "source": [
    "fruit = [\n",
    "    ['Apples', 12, 'AAA'], ['Oranges', 1, 'B'], \n",
    "    ['Pears', 2, 'A'], ['Grapes', 14, 'UR']]\n",
    "\n",
    "cars = [\n",
    "    ['Cadillac', ['Black', 'Big', 34500]],\n",
    "    ['Corvette', ['Red', 'Little', 1000000]],\n",
    "    ['Ford', ['Blue', 'Medium', 1234]],\n",
    "    ['BMW', ['White', 'Baby', 7890]]\n",
    "]\n",
    "\n",
    "languages = [\n",
    "    ['Python', ['Slow', ['Terrible', 'Mush']]],\n",
    "    ['JavaScript', ['Moderate', ['Alright', 'Bizarre']]],\n",
    "    ['Per16', ['Moderate', ['Fun', 'Weird']]],\n",
    "    ['C', ['Fast', ['Annoying', 'Dangerous']]],\n",
    "    ['Forth', ['Fast', ['Fun', 'Difficult']]],\n",
    "]\n"
   ]
  },
  {
   "cell_type": "code",
   "execution_count": 14,
   "id": "71cf74ec-4f79-4c04-a740-592f99d20712",
   "metadata": {},
   "outputs": [
    {
     "name": "stdout",
     "output_type": "stream",
     "text": [
      "Dangerous\n"
     ]
    }
   ],
   "source": [
    "print(languages[3][1][1][1])\n"
   ]
  },
  {
   "cell_type": "code",
   "execution_count": null,
   "id": "7e657056-d3db-4a50-a54d-ea8957f17f78",
   "metadata": {},
   "outputs": [],
   "source": [
    "little red corvette baby UR mush 2 fast"
   ]
  }
 ],
 "metadata": {
  "kernelspec": {
   "display_name": "Python [conda env:base] *",
   "language": "python",
   "name": "conda-base-py"
  },
  "language_info": {
   "codemirror_mode": {
    "name": "ipython",
    "version": 3
   },
   "file_extension": ".py",
   "mimetype": "text/x-python",
   "name": "python",
   "nbconvert_exporter": "python",
   "pygments_lexer": "ipython3",
   "version": "3.13.5"
  }
 },
 "nbformat": 4,
 "nbformat_minor": 5
}
