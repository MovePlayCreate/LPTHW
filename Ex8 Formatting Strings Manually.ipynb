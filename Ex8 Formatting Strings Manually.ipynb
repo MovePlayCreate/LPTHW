{
 "cells": [
  {
   "cell_type": "code",
   "execution_count": 18,
   "id": "dee3f20a-90b5-46cb-a1b1-36896b8a1b75",
   "metadata": {},
   "outputs": [
    {
     "name": "stdout",
     "output_type": "stream",
     "text": [
      "1 2 3 4\n",
      "one two three four\n",
      "True False False True\n",
      "{} {} {} {} {} {} {} {} {} {} {} {} {} {} {} {}\n",
      "1 True three 3.1415\n",
      "Try your Own text here Maybe a poem Or a song about fear\n"
     ]
    }
   ],
   "source": [
    "#creates a variable that holds a string of four brackes waiting to be formatted\"\n",
    "formatter = \"{} {} {} {}\"\n",
    "#prints the first sting usings the formatter variable and inserts the integers 1, 2, 3, 4. notice adding a 5 doesn't break the code. \n",
    "print(formatter.format(1, 2, 3, 4, 5))\n",
    "#shows that the formatter string will also accept strings in the place of the brackets\n",
    "print(formatter.format(\"one\", \"two\", \"three\", \"four\"))\n",
    "#Booleans also work for formatting into sting bracket sequence\n",
    "print(formatter.format(True, False, False, True))\n",
    "#this will place four brackets into each bracket, producing 16 brackets in total when printed\n",
    "print(formatter.format(formatter, formatter, formatter, formatter))\n",
    "#I created this line to see if it would accept multiple variable types into the same string sequence. it does!\n",
    "print(formatter.format(1, True, \"three\", 3.1415))\n",
    "\n",
    "#This will sting together the words written on four different lines into one line. I learned here that writing a 5th sting will not break the code\n",
    "print(formatter.format(\n",
    "    \"Try your\",\n",
    "    \"Own text here\",\n",
    "    \"Maybe a poem\",\n",
    "    \"Or a song about fear\",\n",
    "))"
   ]
  },
  {
   "cell_type": "code",
   "execution_count": null,
   "id": "2fccc1f0-9795-495f-a13c-7f5b104a3bb7",
   "metadata": {},
   "outputs": [],
   "source": []
  }
 ],
 "metadata": {
  "kernelspec": {
   "display_name": "Python 3 (ipykernel)",
   "language": "python",
   "name": "python3"
  },
  "language_info": {
   "codemirror_mode": {
    "name": "ipython",
    "version": 3
   },
   "file_extension": ".py",
   "mimetype": "text/x-python",
   "name": "python",
   "nbconvert_exporter": "python",
   "pygments_lexer": "ipython3",
   "version": "3.13.5"
  }
 },
 "nbformat": 4,
 "nbformat_minor": 5
}
